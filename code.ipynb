{
 "cells": [
  {
   "cell_type": "code",
   "execution_count": null,
   "metadata": {},
   "outputs": [],
   "source": [
    "# Import necessary libraries\n",
    "import numpy as np\n",
    "import pandas as pd\n",
    "from sklearn.model_selection import train_test_split\n",
    "from sklearn.tree import DecisionTreeClassifier\n",
    "from sklearn.metrics import accuracy_score, classification_report\n",
    "import joblib\n",
    "import matplotlib.pyplot as plt\n",
    "import seaborn as sns\n",
    "\n",
    "# Set random seed for reproducibility\n",
    "np.random.seed(42)"
   ]
  },
  {
   "cell_type": "code",
   "execution_count": null,
   "metadata": {},
   "outputs": [],
   "source": [
    "# Define classes and their properties with more meaningful names\n",
    "class_properties = {\n",
    "    0: {'mean': [25, 30], 'std': [5, 4]},\n",
    "    1: {'mean': [40, 45], 'std': [6, 5]},\n",
    "    2: {'mean': [55, 60], 'std': [4, 3.5]}\n",
    "}\n",
    "\n",
    "# Generate synthetic data for a classification task\n",
    "samples_per_class = 300\n",
    "num_dimensions = 2\n",
    "num_classes = len(class_properties)\n",
    "\n",
    "data = []\n",
    "for class_id in class_properties.keys():\n",
    "    mean = class_properties[class_id]['mean']\n",
    "    std = class_properties[class_id]['std']\n",
    "    samples = np.random.normal(mean, std, size=(samples_per_class, num_dimensions))\n",
    "    labels = np.full((samples_per_class, 1), class_id)\n",
    "    class_data = np.hstack((samples, labels))\n",
    "    data.append(class_data)\n",
    "\n",
    "# Combine data from all classes\n",
    "data = np.vstack(data)\n",
    "np.random.shuffle(data)\n",
    "\n",
    "# Create a DataFrame with more meaningful column names\n",
    "column_names = [f'Feature_{i+1}' for i in range(num_dimensions)] + ['Class']\n",
    "df = pd.DataFrame(data, columns=column_names)"
   ]
  },
  {
   "cell_type": "code",
   "execution_count": null,
   "metadata": {},
   "outputs": [],
   "source": [
    "# Visualization of Synthetic Data during EDA\n",
    "plt.figure(figsize=(8, 6))\n",
    "sns.scatterplot(x='Feature_1', y='Feature_2', data=df, color='blue', palette='viridis')\n",
    "plt.title('Synthetic Data Distribution')\n",
    "plt.xlabel('Feature 1')\n",
    "plt.ylabel('Feature 2')\n",
    "plt.show()"
   ]
  },
  {
   "cell_type": "code",
   "execution_count": null,
   "metadata": {},
   "outputs": [],
   "source": [
    "# Split data into features and labels\n",
    "X = df.iloc[:, :-1]\n",
    "y = df['Class']\n",
    "\n",
    "# Split data into training and testing sets\n",
    "X_train, X_test, y_train, y_test = train_test_split(X, y, test_size=0.2, random_state=42)\n",
    "\n",
    "# Create and train the Decision Tree classifier\n",
    "clf = DecisionTreeClassifier(random_state=42)\n",
    "clf.fit(X_train, y_train)\n",
    "\n",
    "# Save the trained model to a file using joblib\n",
    "model_filename = \"trained_model.joblib\"\n",
    "joblib.dump(clf, model_filename)\n",
    "print(f\"Model saved to {model_filename}\")\n",
    "\n",
    "# Load the saved model\n",
    "loaded_model = joblib.load(model_filename)\n",
    "print(f\"Model loaded from {model_filename}\")"
   ]
  },
  {
   "cell_type": "code",
   "execution_count": null,
   "metadata": {},
   "outputs": [],
   "source": [
    "# Visualization of Decision Boundaries\n",
    "plt.figure(figsize=(12, 6))\n",
    "\n",
    "# Plot actual data points\n",
    "plt.subplot(1, 2, 1)\n",
    "sns.scatterplot(x='Feature_1', y='Feature_2', hue='Class', data=df, palette='viridis')\n",
    "plt.title('Actual Operation Data')\n",
    "plt.xlabel('Feature 1')\n",
    "plt.ylabel('Feature 2')\n",
    "\n",
    "# Plot decision boundaries\n",
    "plt.subplot(1, 2, 2)\n",
    "h = .02\n",
    "x_min, x_max = X.iloc[:, 0].min() - 1, X.iloc[:, 0].max() + 1\n",
    "y_min, y_max = X.iloc[:, 1].min() - 1, X.iloc[:, 1].max() + 1\n",
    "xx, yy = np.meshgrid(np.arange(x_min, x_max, h), np.arange(y_min, y_max, h))\n",
    "Z = loaded_model.predict(np.c_[xx.ravel(), yy.ravel()])\n",
    "Z = Z.reshape(xx.shape)\n",
    "plt.contourf(xx, yy, Z, alpha=0.8, cmap=plt.cm.Paired)\n",
    "sns.scatterplot(x='Feature_1', y='Feature_2', hue='Class', data=df, palette='viridis', alpha=0.5)\n",
    "plt.title('Decision Boundaries and Operation Data')\n",
    "plt.xlabel('Feature 1')\n",
    "plt.ylabel('Feature 2')\n",
    "plt.legend(title='Class')\n",
    "\n",
    "plt.show()"
   ]
  },
  {
   "cell_type": "code",
   "execution_count": null,
   "metadata": {},
   "outputs": [],
   "source": [
    "# Predict on the test set\n",
    "y_pred = loaded_model.predict(X_test)\n",
    "\n",
    "# Calculate accuracy and display classification report\n",
    "accuracy = accuracy_score(y_test, y_pred)\n",
    "print(\"Accuracy:\", accuracy)\n",
    "print(\"\\nClassification Report:\")\n",
    "print(classification_report(y_test, y_pred))"
   ]
  },
  {
   "cell_type": "code",
   "execution_count": null,
   "metadata": {},
   "outputs": [],
   "source": [
    "# Plot actual and predicted data points with more meaningful plot titles\n",
    "plt.figure(figsize=(12, 6))\n",
    "\n",
    "# Plot actual data points\n",
    "plt.subplot(1, 2, 1)\n",
    "sns.scatterplot(x='Feature_1', y='Feature_2', hue='Class', data=df, palette='viridis')\n",
    "plt.title('Actual Operation Data')\n",
    "plt.xlabel('Feature 1')\n",
    "plt.ylabel('Feature 2')\n",
    "\n",
    "# Plot predicted data points\n",
    "plt.subplot(1, 2, 2)\n",
    "sns.scatterplot(x='Feature_1', y='Feature_2', hue='Class', data=df, palette='viridis', alpha=0.5)\n",
    "sns.scatterplot(x=X_test['Feature_1'], y=X_test['Feature_2'], hue=y_pred, marker='X', s=100, palette='Set2', edgecolor='black')\n",
    "plt.title('Actual vs Predicted Operation Data')\n",
    "plt.xlabel('Feature 1')\n",
    "plt.ylabel('Feature 2')\n",
    "\n",
    "plt.show()\n"
   ]
  }
 ],
 "metadata": {
  "language_info": {
   "name": "python"
  }
 },
 "nbformat": 4,
 "nbformat_minor": 2
}
